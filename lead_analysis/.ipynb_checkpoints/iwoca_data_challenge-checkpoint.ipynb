{
 "cells": [
  {
   "cell_type": "markdown",
   "metadata": {},
   "source": [
    "# Iwoca Data Challenge - python version"
   ]
  },
  {
   "cell_type": "markdown",
   "metadata": {},
   "source": [
    "## Initial imports"
   ]
  },
  {
   "cell_type": "markdown",
   "metadata": {},
   "source": [
    "#### Import datasets and combine to master set"
   ]
  },
  {
   "cell_type": "code",
   "execution_count": 1,
   "metadata": {},
   "outputs": [],
   "source": [
    "import pandas as pd\n",
    "import numpy as np\n",
    "from scipy.stats import chi2\n",
    "import matplotlib\n",
    "from sklearn.linear_model import LogisticRegression\n",
    "from sklearn import model_selection\n",
    "import matplotlib.pyplot as plt\n",
    "import random\n",
    "import seaborn as sns "
   ]
  },
  {
   "cell_type": "code",
   "execution_count": 50,
   "metadata": {},
   "outputs": [],
   "source": [
    "leads = pd.read_csv('leads.csv')\n",
    "signups = pd.read_csv('signups.csv')\n",
    "calls = pd.read_csv('calls.csv')\n",
    "call_details = pd.merge(calls,leads,on='Phone Number',how='left')\n",
    "complete_leads = pd.merge(call_details,signups,left_on = 'Name', right_on = 'Lead',how='left')\n",
    "complete_leads = complete_leads.sort_values(['Name','Call Number'])\n",
    "complete_leads = complete_leads.drop(columns=['Lead'])"
   ]
  },
  {
   "cell_type": "markdown",
   "metadata": {},
   "source": [
    "#### Mutate approval decision column to specify whether someone signed uP"
   ]
  },
  {
   "cell_type": "code",
   "execution_count": 51,
   "metadata": {},
   "outputs": [],
   "source": [
    "complete_leads['Approval Decision'] = complete_leads['Approval Decision'].fillna('NO_CHECK')"
   ]
  },
  {
   "cell_type": "markdown",
   "metadata": {},
   "source": [
    "#### Add additional columns for call number (lead specific), sign up yes/no and a call credit estimator "
   ]
  },
  {
   "cell_type": "code",
   "execution_count": 52,
   "metadata": {
    "scrolled": true
   },
   "outputs": [],
   "source": [
    "\n",
    "\n",
    "def ranker(df):\n",
    "    \"\"\"Assigns a rank to each call, first call 1 and last call N\"\"\"\n",
    "    df['real_call_number'] = np.arange(len(df)) + 1\n",
    "    return df\n",
    "\n",
    "def did_sign_up(df):\n",
    "    \"\"\"Add column indicating whether lead signed up or not\"\"\"\n",
    "    if df.isin({'Call Outcome':['INTERESTED'],\n",
    "                'Approval Decision':['REJECTED','APPROVED']}).any(axis=None):\n",
    "        df['sign_up'] = np.array([1]*len(df))\n",
    "    else:\n",
    "        df['sign_up'] = np.array([0]*len(df))\n",
    "    return df\n",
    "\n",
    "def apply_credit(df):\n",
    "    \"\"\"function which gives credit to a call on a path to successful conversion\"\"\"\n",
    "    if df['sign_up'].max() == 1:\n",
    "        if len(df) == 1:\n",
    "            df['credit'] = 1\n",
    "        else:\n",
    "            df['credit'] = np.array([0.5/(len(df)-1)]*(len(df)-1)+[0.5])\n",
    "    else:\n",
    "        df['credit'] = 0\n",
    "    return df\n",
    "\n",
    "def three_functions(df):\n",
    "    \"\"\" Apply all 3 to build new columns\"\"\"\n",
    "    apply_credit(\n",
    "        ranker(\n",
    "            did_sign_up(\n",
    "                df\n",
    "            )\n",
    "        )\n",
    "    )\n",
    "    return df\n",
    "\n",
    "complete_leads = complete_leads.groupby('Name').apply(three_functions)"
   ]
  },
  {
   "cell_type": "markdown",
   "metadata": {},
   "source": [
    "### The below table includes all leads who recieved calls"
   ]
  },
  {
   "cell_type": "code",
   "execution_count": 53,
   "metadata": {
    "scrolled": true
   },
   "outputs": [
    {
     "data": {
      "text/html": [
       "<div>\n",
       "<style scoped>\n",
       "    .dataframe tbody tr th:only-of-type {\n",
       "        vertical-align: middle;\n",
       "    }\n",
       "\n",
       "    .dataframe tbody tr th {\n",
       "        vertical-align: top;\n",
       "    }\n",
       "\n",
       "    .dataframe thead th {\n",
       "        text-align: right;\n",
       "    }\n",
       "</style>\n",
       "<table border=\"1\" class=\"dataframe\">\n",
       "  <thead>\n",
       "    <tr style=\"text-align: right;\">\n",
       "      <th></th>\n",
       "      <th>Phone Number</th>\n",
       "      <th>Call Outcome</th>\n",
       "      <th>Agent</th>\n",
       "      <th>Call Number</th>\n",
       "      <th>Name</th>\n",
       "      <th>Region</th>\n",
       "      <th>Sector</th>\n",
       "      <th>Age</th>\n",
       "      <th>Approval Decision</th>\n",
       "      <th>sign_up</th>\n",
       "      <th>real_call_number</th>\n",
       "      <th>credit</th>\n",
       "    </tr>\n",
       "  </thead>\n",
       "  <tbody>\n",
       "    <tr>\n",
       "      <th>4125</th>\n",
       "      <td>718889280723</td>\n",
       "      <td>INTERESTED</td>\n",
       "      <td>blue</td>\n",
       "      <td>4125</td>\n",
       "      <td>Aaron MICHAEL</td>\n",
       "      <td>north-west</td>\n",
       "      <td>consultancy</td>\n",
       "      <td>24</td>\n",
       "      <td>REJECTED</td>\n",
       "      <td>1</td>\n",
       "      <td>1</td>\n",
       "      <td>1.0</td>\n",
       "    </tr>\n",
       "    <tr>\n",
       "      <th>2484</th>\n",
       "      <td>647443547151</td>\n",
       "      <td>CALL BACK LATER</td>\n",
       "      <td>green</td>\n",
       "      <td>2484</td>\n",
       "      <td>Abagail PACE</td>\n",
       "      <td>midlands</td>\n",
       "      <td>entertainment</td>\n",
       "      <td>40</td>\n",
       "      <td>NO_CHECK</td>\n",
       "      <td>0</td>\n",
       "      <td>1</td>\n",
       "      <td>0.0</td>\n",
       "    </tr>\n",
       "    <tr>\n",
       "      <th>2584</th>\n",
       "      <td>647443547151</td>\n",
       "      <td>CALL BACK LATER</td>\n",
       "      <td>green</td>\n",
       "      <td>2584</td>\n",
       "      <td>Abagail PACE</td>\n",
       "      <td>midlands</td>\n",
       "      <td>entertainment</td>\n",
       "      <td>40</td>\n",
       "      <td>NO_CHECK</td>\n",
       "      <td>0</td>\n",
       "      <td>2</td>\n",
       "      <td>0.0</td>\n",
       "    </tr>\n",
       "    <tr>\n",
       "      <th>2684</th>\n",
       "      <td>647443547151</td>\n",
       "      <td>NOT INTERESTED</td>\n",
       "      <td>orange</td>\n",
       "      <td>2684</td>\n",
       "      <td>Abagail PACE</td>\n",
       "      <td>midlands</td>\n",
       "      <td>entertainment</td>\n",
       "      <td>40</td>\n",
       "      <td>NO_CHECK</td>\n",
       "      <td>0</td>\n",
       "      <td>3</td>\n",
       "      <td>0.0</td>\n",
       "    </tr>\n",
       "    <tr>\n",
       "      <th>380</th>\n",
       "      <td>967742850061</td>\n",
       "      <td>INTERESTED</td>\n",
       "      <td>red</td>\n",
       "      <td>380</td>\n",
       "      <td>Abbey TERRELL</td>\n",
       "      <td>south-west</td>\n",
       "      <td>wholesale</td>\n",
       "      <td>45</td>\n",
       "      <td>REJECTED</td>\n",
       "      <td>1</td>\n",
       "      <td>1</td>\n",
       "      <td>1.0</td>\n",
       "    </tr>\n",
       "  </tbody>\n",
       "</table>\n",
       "</div>"
      ],
      "text/plain": [
       "      Phone Number     Call Outcome   Agent  Call Number           Name  \\\n",
       "4125  718889280723       INTERESTED    blue         4125  Aaron MICHAEL   \n",
       "2484  647443547151  CALL BACK LATER   green         2484   Abagail PACE   \n",
       "2584  647443547151  CALL BACK LATER   green         2584   Abagail PACE   \n",
       "2684  647443547151   NOT INTERESTED  orange         2684   Abagail PACE   \n",
       "380   967742850061       INTERESTED     red          380  Abbey TERRELL   \n",
       "\n",
       "          Region         Sector  Age Approval Decision  sign_up  \\\n",
       "4125  north-west    consultancy   24          REJECTED        1   \n",
       "2484    midlands  entertainment   40          NO_CHECK        0   \n",
       "2584    midlands  entertainment   40          NO_CHECK        0   \n",
       "2684    midlands  entertainment   40          NO_CHECK        0   \n",
       "380   south-west      wholesale   45          REJECTED        1   \n",
       "\n",
       "      real_call_number  credit  \n",
       "4125                 1     1.0  \n",
       "2484                 1     0.0  \n",
       "2584                 2     0.0  \n",
       "2684                 3     0.0  \n",
       "380                  1     1.0  "
      ]
     },
     "execution_count": 53,
     "metadata": {},
     "output_type": "execute_result"
    }
   ],
   "source": [
    "complete_leads.head(5)"
   ]
  },
  {
   "cell_type": "markdown",
   "metadata": {},
   "source": [
    "## Assumptions I made\n",
    "\n",
    "\n",
    "#### For question 10, when modelling, I've included calls that are 'dead lines'. After thinking about it more, it actually might make more sense to model sign up rates not including dead lines, and have a seperate model to predict dead lines vs not dead lines. Especially when including agent in the model this will be more meaningful"
   ]
  },
  {
   "cell_type": "markdown",
   "metadata": {},
   "source": [
    "## Question 1: Which agent made the most calls?"
   ]
  },
  {
   "cell_type": "code",
   "execution_count": 54,
   "metadata": {},
   "outputs": [
    {
     "name": "stdout",
     "output_type": "stream",
     "text": [
      "Agent\n",
      "orange    2234\n",
      "red       1478\n",
      "black      750\n",
      "green      339\n",
      "blue       199\n",
      "dtype: int64\n",
      "\n",
      "\n",
      "Agent orange made the most calls\n"
     ]
    }
   ],
   "source": [
    "print(complete_leads.groupby('Agent').size().sort_values(ascending=False))\n",
    "print('\\n')\n",
    "print('Agent orange made the most calls')"
   ]
  },
  {
   "cell_type": "markdown",
   "metadata": {},
   "source": [
    "## Question 2: For the leads that received one or more calls, how many calls were received on average? "
   ]
  },
  {
   "cell_type": "code",
   "execution_count": 55,
   "metadata": {},
   "outputs": [
    {
     "data": {
      "text/plain": [
       "1.839587932303164"
      ]
     },
     "execution_count": 55,
     "metadata": {},
     "output_type": "execute_result"
    }
   ],
   "source": [
    "complete_leads.groupby('Name').size().mean()"
   ]
  },
  {
   "cell_type": "markdown",
   "metadata": {},
   "source": [
    "## Question 3: For the leads that signed up, how many calls were received, on average?"
   ]
  },
  {
   "cell_type": "code",
   "execution_count": 56,
   "metadata": {
    "scrolled": true
   },
   "outputs": [
    {
     "data": {
      "text/plain": [
       "2.0972222222222223"
      ]
     },
     "execution_count": 56,
     "metadata": {},
     "output_type": "execute_result"
    }
   ],
   "source": [
    "complete_leads[\n",
    "    complete_leads['sign_up'] == 1\n",
    "].groupby('Name').size().mean()"
   ]
  },
  {
   "cell_type": "markdown",
   "metadata": {},
   "source": [
    "## Question 4: Which agent had the most signups? Which assumptions did you make? (note that there is a many-to-one relationship between calls and leads) "
   ]
  },
  {
   "cell_type": "markdown",
   "metadata": {},
   "source": [
    "#### Firstly assume only last call gives credit to agent"
   ]
  },
  {
   "cell_type": "code",
   "execution_count": 57,
   "metadata": {},
   "outputs": [
    {
     "name": "stdout",
     "output_type": "stream",
     "text": [
      "Agent\n",
      "orange    560\n",
      "red       424\n",
      "black     157\n",
      "green      97\n",
      "blue       58\n",
      "dtype: int64\n",
      "\n",
      "\n",
      "Agent Orange has the most signups\n"
     ]
    }
   ],
   "source": [
    "print(complete_leads[\n",
    "    (complete_leads['Call Outcome'] == 'INTERESTED') &  \n",
    "    ( complete_leads['sign_up'] == 1)\n",
    "].groupby('Agent').size().sort_values(ascending=False))\n",
    "print('\\n')\n",
    "print('Agent Orange has the most signups')"
   ]
  },
  {
   "cell_type": "markdown",
   "metadata": {},
   "source": [
    "#### Secondly assume the following calls recieve credit. Call Back, Answer Phone, Interested. Assign 1/2 credit to Interested, and share remaining credit equally between other touchpoints."
   ]
  },
  {
   "cell_type": "code",
   "execution_count": 58,
   "metadata": {
    "scrolled": false
   },
   "outputs": [
    {
     "name": "stdout",
     "output_type": "stream",
     "text": [
      "Agent\n",
      "orange    563.267262\n",
      "red       422.179167\n",
      "black     158.918452\n",
      "green      90.617262\n",
      "blue       61.017857\n",
      "Name: credit, dtype: float64\n",
      "\n",
      "\n",
      "Agent Orange has the most signups\n"
     ]
    }
   ],
   "source": [
    "print(complete_leads.groupby('Agent')['credit'].sum().sort_values(ascending=False))\n",
    "print('\\n')\n",
    "print('Agent Orange has the most signups')"
   ]
  },
  {
   "cell_type": "markdown",
   "metadata": {},
   "source": [
    "## Question 5: Which agent had the most signups per call? "
   ]
  },
  {
   "cell_type": "code",
   "execution_count": 59,
   "metadata": {
    "scrolled": true
   },
   "outputs": [
    {
     "name": "stdout",
     "output_type": "stream",
     "text": [
      "Agent\n",
      "black     0.209333\n",
      "blue      0.291457\n",
      "green     0.286136\n",
      "orange    0.250671\n",
      "red       0.286874\n",
      "dtype: float64\n",
      "\n",
      "\n",
      "Agent Blue has the most signups per call\n"
     ]
    }
   ],
   "source": [
    "sign_ups_agents = complete_leads[\n",
    "    (complete_leads['Call Outcome'] == 'INTERESTED') &  \n",
    "    ( complete_leads['sign_up'] == 1)\n",
    "].groupby('Agent').size() / complete_leads.groupby('Agent').size()\n",
    "print(sign_ups_agents)\n",
    "print('\\n')\n",
    "print('Agent Blue has the most signups per call')"
   ]
  },
  {
   "cell_type": "markdown",
   "metadata": {},
   "source": [
    "## Question 6: Was the variation between the agents’ signups-per-call statistically significant? Why?\n",
    " "
   ]
  },
  {
   "cell_type": "markdown",
   "metadata": {},
   "source": [
    "#### Conduct a difference in proportions test, chi squared is appropriate"
   ]
  },
  {
   "cell_type": "code",
   "execution_count": 60,
   "metadata": {},
   "outputs": [],
   "source": [
    "# Build a contigency table, agent one axis. other axis is a) number of sign up calls, b) none sign up calls\n",
    "# c) proportion of boith c) proportion of total calls lead to sign up  d) proportion of total * number of calls\n",
    "sign_up_props = pd.DataFrame(\n",
    "    {'SignUps':\n",
    "     complete_leads[complete_leads['Call Outcome']=='INTERESTED'].groupby('Agent').size(),\n",
    "     'Calls':\n",
    "     complete_leads.groupby('Agent').size(),\n",
    "     'NoSignUps':\n",
    "     complete_leads.groupby('Agent').size() - \n",
    "     complete_leads[complete_leads['Call Outcome']=='INTERESTED'].groupby('Agent').size()\n",
    "    } \n",
    ")\n"
   ]
  },
  {
   "cell_type": "code",
   "execution_count": 61,
   "metadata": {},
   "outputs": [
    {
     "data": {
      "text/html": [
       "<div>\n",
       "<style scoped>\n",
       "    .dataframe tbody tr th:only-of-type {\n",
       "        vertical-align: middle;\n",
       "    }\n",
       "\n",
       "    .dataframe tbody tr th {\n",
       "        vertical-align: top;\n",
       "    }\n",
       "\n",
       "    .dataframe thead th {\n",
       "        text-align: right;\n",
       "    }\n",
       "</style>\n",
       "<table border=\"1\" class=\"dataframe\">\n",
       "  <thead>\n",
       "    <tr style=\"text-align: right;\">\n",
       "      <th></th>\n",
       "      <th>SignUps</th>\n",
       "      <th>Calls</th>\n",
       "      <th>NoSignUps</th>\n",
       "    </tr>\n",
       "    <tr>\n",
       "      <th>Agent</th>\n",
       "      <th></th>\n",
       "      <th></th>\n",
       "      <th></th>\n",
       "    </tr>\n",
       "  </thead>\n",
       "  <tbody>\n",
       "    <tr>\n",
       "      <th>black</th>\n",
       "      <td>157</td>\n",
       "      <td>750</td>\n",
       "      <td>593</td>\n",
       "    </tr>\n",
       "    <tr>\n",
       "      <th>blue</th>\n",
       "      <td>58</td>\n",
       "      <td>199</td>\n",
       "      <td>141</td>\n",
       "    </tr>\n",
       "    <tr>\n",
       "      <th>green</th>\n",
       "      <td>97</td>\n",
       "      <td>339</td>\n",
       "      <td>242</td>\n",
       "    </tr>\n",
       "    <tr>\n",
       "      <th>orange</th>\n",
       "      <td>560</td>\n",
       "      <td>2234</td>\n",
       "      <td>1674</td>\n",
       "    </tr>\n",
       "    <tr>\n",
       "      <th>red</th>\n",
       "      <td>424</td>\n",
       "      <td>1478</td>\n",
       "      <td>1054</td>\n",
       "    </tr>\n",
       "    <tr>\n",
       "      <th>Column_Total</th>\n",
       "      <td>1296</td>\n",
       "      <td>5000</td>\n",
       "      <td>3704</td>\n",
       "    </tr>\n",
       "  </tbody>\n",
       "</table>\n",
       "</div>"
      ],
      "text/plain": [
       "              SignUps  Calls  NoSignUps\n",
       "Agent                                  \n",
       "black             157    750        593\n",
       "blue               58    199        141\n",
       "green              97    339        242\n",
       "orange            560   2234       1674\n",
       "red               424   1478       1054\n",
       "Column_Total     1296   5000       3704"
      ]
     },
     "execution_count": 61,
     "metadata": {},
     "output_type": "execute_result"
    }
   ],
   "source": [
    "sign_up_props.loc['Column_Total']= sign_up_props.sum(numeric_only=True, axis=0)\n",
    "sign_up_props"
   ]
  },
  {
   "cell_type": "code",
   "execution_count": 62,
   "metadata": {},
   "outputs": [
    {
     "name": "stdout",
     "output_type": "stream",
     "text": [
      "prob of signing up is  0.2592\n",
      "\n",
      "\n"
     ]
    }
   ],
   "source": [
    "prob_sign_up = 1296/5000\n",
    "prob_not_sign_up = 3704/5000\n",
    "prob_black = 750/5000\n",
    "prob_blue = 199/5000\n",
    "prob_green = 339/5000\n",
    "prob_orange = 2234/5000\n",
    "prob_red  = 1478/5000\n",
    "print('prob of signing up is  '+str(prob_sign_up))\n",
    "print('\\n')\n",
    "\n",
    "sign_up_props['Prob_Agent'] = [\n",
    "    prob_black,\n",
    "    prob_blue,\n",
    "    prob_green,\n",
    "    prob_orange,\n",
    "    prob_red,\n",
    "    np.nan]\n",
    "sign_up_props['Prob_signup|agent'] = sign_up_props.SignUps / sign_up_props.Calls"
   ]
  },
  {
   "cell_type": "markdown",
   "metadata": {},
   "source": [
    "#### H0: There is no association between agent and sign up rate"
   ]
  },
  {
   "cell_type": "code",
   "execution_count": 63,
   "metadata": {},
   "outputs": [
    {
     "data": {
      "text/html": [
       "<div>\n",
       "<style scoped>\n",
       "    .dataframe tbody tr th:only-of-type {\n",
       "        vertical-align: middle;\n",
       "    }\n",
       "\n",
       "    .dataframe tbody tr th {\n",
       "        vertical-align: top;\n",
       "    }\n",
       "\n",
       "    .dataframe thead th {\n",
       "        text-align: right;\n",
       "    }\n",
       "</style>\n",
       "<table border=\"1\" class=\"dataframe\">\n",
       "  <thead>\n",
       "    <tr style=\"text-align: right;\">\n",
       "      <th></th>\n",
       "      <th>SignUps</th>\n",
       "      <th>Calls</th>\n",
       "      <th>NoSignUps</th>\n",
       "      <th>Prob_Agent</th>\n",
       "      <th>Prob_signup|agent</th>\n",
       "      <th>Exp_SignUps</th>\n",
       "      <th>Exp_NoSignUps</th>\n",
       "    </tr>\n",
       "    <tr>\n",
       "      <th>Agent</th>\n",
       "      <th></th>\n",
       "      <th></th>\n",
       "      <th></th>\n",
       "      <th></th>\n",
       "      <th></th>\n",
       "      <th></th>\n",
       "      <th></th>\n",
       "    </tr>\n",
       "  </thead>\n",
       "  <tbody>\n",
       "    <tr>\n",
       "      <th>black</th>\n",
       "      <td>157</td>\n",
       "      <td>750</td>\n",
       "      <td>593</td>\n",
       "      <td>0.1500</td>\n",
       "      <td>0.209333</td>\n",
       "      <td>194.4000</td>\n",
       "      <td>555.6000</td>\n",
       "    </tr>\n",
       "    <tr>\n",
       "      <th>blue</th>\n",
       "      <td>58</td>\n",
       "      <td>199</td>\n",
       "      <td>141</td>\n",
       "      <td>0.0398</td>\n",
       "      <td>0.291457</td>\n",
       "      <td>51.5808</td>\n",
       "      <td>147.4192</td>\n",
       "    </tr>\n",
       "    <tr>\n",
       "      <th>green</th>\n",
       "      <td>97</td>\n",
       "      <td>339</td>\n",
       "      <td>242</td>\n",
       "      <td>0.0678</td>\n",
       "      <td>0.286136</td>\n",
       "      <td>87.8688</td>\n",
       "      <td>251.1312</td>\n",
       "    </tr>\n",
       "    <tr>\n",
       "      <th>orange</th>\n",
       "      <td>560</td>\n",
       "      <td>2234</td>\n",
       "      <td>1674</td>\n",
       "      <td>0.4468</td>\n",
       "      <td>0.250671</td>\n",
       "      <td>579.0528</td>\n",
       "      <td>1654.9472</td>\n",
       "    </tr>\n",
       "    <tr>\n",
       "      <th>red</th>\n",
       "      <td>424</td>\n",
       "      <td>1478</td>\n",
       "      <td>1054</td>\n",
       "      <td>0.2956</td>\n",
       "      <td>0.286874</td>\n",
       "      <td>383.0976</td>\n",
       "      <td>1094.9024</td>\n",
       "    </tr>\n",
       "    <tr>\n",
       "      <th>Column_Total</th>\n",
       "      <td>1296</td>\n",
       "      <td>5000</td>\n",
       "      <td>3704</td>\n",
       "      <td>NaN</td>\n",
       "      <td>0.259200</td>\n",
       "      <td>1296.0000</td>\n",
       "      <td>3704.0000</td>\n",
       "    </tr>\n",
       "  </tbody>\n",
       "</table>\n",
       "</div>"
      ],
      "text/plain": [
       "              SignUps  Calls  NoSignUps  Prob_Agent  Prob_signup|agent  \\\n",
       "Agent                                                                    \n",
       "black             157    750        593      0.1500           0.209333   \n",
       "blue               58    199        141      0.0398           0.291457   \n",
       "green              97    339        242      0.0678           0.286136   \n",
       "orange            560   2234       1674      0.4468           0.250671   \n",
       "red               424   1478       1054      0.2956           0.286874   \n",
       "Column_Total     1296   5000       3704         NaN           0.259200   \n",
       "\n",
       "              Exp_SignUps  Exp_NoSignUps  \n",
       "Agent                                     \n",
       "black            194.4000       555.6000  \n",
       "blue              51.5808       147.4192  \n",
       "green             87.8688       251.1312  \n",
       "orange           579.0528      1654.9472  \n",
       "red              383.0976      1094.9024  \n",
       "Column_Total    1296.0000      3704.0000  "
      ]
     },
     "execution_count": 63,
     "metadata": {},
     "output_type": "execute_result"
    }
   ],
   "source": [
    "sign_up_props['Exp_SignUps'] =  prob_sign_up * sign_up_props.Calls\n",
    "sign_up_props['Exp_NoSignUps']=  prob_not_sign_up * sign_up_props.Calls\n",
    "sign_up_props"
   ]
  },
  {
   "cell_type": "markdown",
   "metadata": {},
   "source": [
    "$${\\chi}^2=\\sum_{k=1}^{n} \\frac{(O_k - E_k)^2}{E_k}$$"
   ]
  },
  {
   "cell_type": "code",
   "execution_count": 64,
   "metadata": {},
   "outputs": [],
   "source": [
    "sign_sum = sum(((sign_up_props.SignUps - sign_up_props.Exp_SignUps)**2) / sign_up_props.Exp_SignUps )\n",
    "no_sign_sum = sum(((sign_up_props.NoSignUps - sign_up_props.Exp_NoSignUps)**2) / sign_up_props.Exp_NoSignUps)\n",
    "chi_sq_stat = sign_sum+no_sign_sum"
   ]
  },
  {
   "cell_type": "code",
   "execution_count": 65,
   "metadata": {},
   "outputs": [
    {
     "data": {
      "text/plain": [
       "4"
      ]
     },
     "execution_count": 65,
     "metadata": {},
     "output_type": "execute_result"
    }
   ],
   "source": [
    "deg_free = (5-1)*(2-1)\n",
    "deg_free"
   ]
  },
  {
   "cell_type": "code",
   "execution_count": 66,
   "metadata": {},
   "outputs": [
    {
     "name": "stdout",
     "output_type": "stream",
     "text": [
      "0.999 18.46682695290317 18.813425955272095\n"
     ]
    }
   ],
   "source": [
    "# interpret test-statistic\n",
    "prob = 0.999 # (0.1%)\n",
    "critical = chi2.ppf(prob, deg_free)\n",
    "print(prob,critical ,chi_sq_stat)\n",
    "\n",
    "# Assuming our hypothesis was true, and using the distribution of statistics we could have observed\n",
    "# under this assumption. we find it very unlikely our result would be realized.\n",
    "# This suggests it is incredibly unlikely that our proportions are independent\n",
    "# Below you can see that over 99.9% of observable statistics under null hypothesis are less than our observation.\n",
    "# Hence we can comfortably reject H0 and conclude the variations between sign up rates is stat sig different."
   ]
  },
  {
   "cell_type": "markdown",
   "metadata": {},
   "source": [
    "## Question 7: A lead from which region is most likely to be “interested” in the product? "
   ]
  },
  {
   "cell_type": "code",
   "execution_count": 67,
   "metadata": {},
   "outputs": [
    {
     "data": {
      "text/plain": [
       "Region\n",
       "london               56\n",
       "midlands            150\n",
       "north-east          139\n",
       "north-west          365\n",
       "northern-ireland     40\n",
       "scotland            137\n",
       "south                62\n",
       "south-east          136\n",
       "south-west          161\n",
       "wales                50\n",
       "dtype: int64"
      ]
     },
     "execution_count": 67,
     "metadata": {},
     "output_type": "execute_result"
    }
   ],
   "source": [
    "complete_leads[\n",
    "    (complete_leads['Call Outcome'] == 'INTERESTED')\n",
    "].groupby('Region').size()"
   ]
  },
  {
   "cell_type": "markdown",
   "metadata": {},
   "source": [
    "## Question 8: A lead from which sector is most likely to be “interested” in the product?"
   ]
  },
  {
   "cell_type": "code",
   "execution_count": 68,
   "metadata": {},
   "outputs": [
    {
     "data": {
      "text/plain": [
       "Sector\n",
       "agriculture       30\n",
       "construction      46\n",
       "consultancy      301\n",
       "entertainment    135\n",
       "food             261\n",
       "retail           290\n",
       "wholesale        233\n",
       "dtype: int64"
      ]
     },
     "execution_count": 68,
     "metadata": {},
     "output_type": "execute_result"
    }
   ],
   "source": [
    "complete_leads[\n",
    "    (complete_leads['Call Outcome'] == 'INTERESTED')\n",
    "].groupby('Sector').size()"
   ]
  },
  {
   "cell_type": "markdown",
   "metadata": {},
   "source": [
    "## Question 9: Given a lead has already expressed interest and signed up, signups from which region are most likely to be approved?\n"
   ]
  },
  {
   "cell_type": "code",
   "execution_count": 69,
   "metadata": {},
   "outputs": [],
   "source": [
    "# P(Sign up approved | expressed interest ) = P(Sign up approved & Interested) / P(interested)\n",
    "# = P (sign up approved) / P(interested)\n",
    "# = (N_Approved / N_Leads) / (N_Interested / N_Leads)\n",
    "# = N_Approved / N_Interested"
   ]
  },
  {
   "cell_type": "code",
   "execution_count": 70,
   "metadata": {
    "scrolled": true
   },
   "outputs": [
    {
     "data": {
      "text/html": [
       "<div>\n",
       "<style scoped>\n",
       "    .dataframe tbody tr th:only-of-type {\n",
       "        vertical-align: middle;\n",
       "    }\n",
       "\n",
       "    .dataframe tbody tr th {\n",
       "        vertical-align: top;\n",
       "    }\n",
       "\n",
       "    .dataframe thead th {\n",
       "        text-align: right;\n",
       "    }\n",
       "</style>\n",
       "<table border=\"1\" class=\"dataframe\">\n",
       "  <thead>\n",
       "    <tr style=\"text-align: right;\">\n",
       "      <th>Region</th>\n",
       "      <th>london</th>\n",
       "      <th>midlands</th>\n",
       "      <th>north-east</th>\n",
       "      <th>north-west</th>\n",
       "      <th>northern-ireland</th>\n",
       "      <th>scotland</th>\n",
       "      <th>south</th>\n",
       "      <th>south-east</th>\n",
       "      <th>south-west</th>\n",
       "      <th>wales</th>\n",
       "    </tr>\n",
       "  </thead>\n",
       "  <tbody>\n",
       "    <tr>\n",
       "      <th>Name</th>\n",
       "      <td>0.035714</td>\n",
       "      <td>0.173333</td>\n",
       "      <td>0.143885</td>\n",
       "      <td>0.260274</td>\n",
       "      <td>0.15</td>\n",
       "      <td>0.270073</td>\n",
       "      <td>0.193548</td>\n",
       "      <td>0.213235</td>\n",
       "      <td>0.15528</td>\n",
       "      <td>0.1</td>\n",
       "    </tr>\n",
       "  </tbody>\n",
       "</table>\n",
       "</div>"
      ],
      "text/plain": [
       "Region    london  midlands  north-east  north-west  northern-ireland  \\\n",
       "Name    0.035714  0.173333    0.143885    0.260274              0.15   \n",
       "\n",
       "Region  scotland     south  south-east  south-west  wales  \n",
       "Name    0.270073  0.193548    0.213235     0.15528    0.1  "
      ]
     },
     "execution_count": 70,
     "metadata": {},
     "output_type": "execute_result"
    }
   ],
   "source": [
    "n_approved = complete_leads[\n",
    "    complete_leads['Approval Decision'] == 'APPROVED'\n",
    "].groupby(['Region']).agg({'Name':'nunique'}) \n",
    "n_interested = complete_leads[\n",
    "    complete_leads['Call Outcome'] == 'INTERESTED'\n",
    "].groupby(['Region']).agg({'Name':'nunique'}) \n",
    "\n",
    "(n_approved / n_interested).transpose()"
   ]
  },
  {
   "cell_type": "code",
   "execution_count": 71,
   "metadata": {},
   "outputs": [],
   "source": [
    "#Scotland has the highest rate"
   ]
  },
  {
   "cell_type": "markdown",
   "metadata": {},
   "source": [
    "## Is this statistically significant? Why?"
   ]
  },
  {
   "cell_type": "markdown",
   "metadata": {},
   "source": [
    "#### Chosen not to repeat method from question6. If I was to complete, Test1  would be first compare to overall average rate. Likely conclude via chi sq one tail test it is higher.  \n",
    "#### Test 2 would be to Next I would compare to northwest and likely find little evidence there is a difference between the two rates. \n",
    "\n",
    "#### It could be useful to do test 1 if the business was considering the viability of placing concerted effort in the Scotland region, for example considering opening a new office and finding evidence for and against such an investment. Another reason to run this test could be to support an investigation into the make up of Scottish businesses. Could a detailed comparison of scottish businesses vs their english equivalents help shed some light onto why sign ups are much more likely to be approved\n",
    "\n",
    "#### Test 2 could be useful if there was a consideration on whether north west and scotland should be treated more homogenously, this could be from a sales/comms perspective or otherwise."
   ]
  },
  {
   "cell_type": "markdown",
   "metadata": {},
   "source": [
    "## Question 10.1: Suppose you wanted to pick the 1000 leads most likely to sign up (who have not been called so far), based only on age, sector and region. What criteria would you use to pick those leads?"
   ]
  },
  {
   "cell_type": "markdown",
   "metadata": {},
   "source": [
    "#### Organize data to understand how I would tackle the problem"
   ]
  },
  {
   "cell_type": "code",
   "execution_count": 72,
   "metadata": {},
   "outputs": [
    {
     "name": "stdout",
     "output_type": "stream",
     "text": [
      "count    5000.000000\n",
      "mean       37.663400\n",
      "std        20.061919\n",
      "min        18.000000\n",
      "25%        23.000000\n",
      "50%        32.000000\n",
      "75%        46.000000\n",
      "max       184.000000\n",
      "Name: Age, dtype: float64\n",
      "\n",
      "\n",
      "I was told in interview i missed the fact age column was wrong. \n",
      "Simple check and without any further information I choose to ignore it\n"
     ]
    },
    {
     "data": {
      "image/png": "[encoded data removed]",
      "text/plain": [
       "<Figure size 432x288 with 1 Axes>"
      ]
     },
     "metadata": {
      "needs_background": "light"
     },
     "output_type": "display_data"
    }
   ],
   "source": [
    "print(complete_leads['Age'].describe())\n",
    "complete_leads['Age'].hist()\n",
    "print('\\n')\n",
    "print(\"\"\"I was told in interview i missed the fact age column was wrong. \n",
    "Simple check and without any further information I choose to ignore it\"\"\")\n"
   ]
  },
  {
   "cell_type": "code",
   "execution_count": 73,
   "metadata": {},
   "outputs": [],
   "source": [
    "# Choosing criteria for next 1000 leads. Without including agent I use the following technique.\n",
    "\n",
    "# Use understanding of sector & region to "
   ]
  },
  {
   "cell_type": "code",
   "execution_count": 74,
   "metadata": {},
   "outputs": [
    {
     "data": {
      "text/html": [
       "<div>\n",
       "<style scoped>\n",
       "    .dataframe tbody tr th:only-of-type {\n",
       "        vertical-align: middle;\n",
       "    }\n",
       "\n",
       "    .dataframe tbody tr th {\n",
       "        vertical-align: top;\n",
       "    }\n",
       "\n",
       "    .dataframe thead th {\n",
       "        text-align: right;\n",
       "    }\n",
       "</style>\n",
       "<table border=\"1\" class=\"dataframe\">\n",
       "  <thead>\n",
       "    <tr style=\"text-align: right;\">\n",
       "      <th></th>\n",
       "      <th>Name</th>\n",
       "      <th>Region</th>\n",
       "      <th>Sector</th>\n",
       "      <th>sign_up</th>\n",
       "    </tr>\n",
       "  </thead>\n",
       "  <tbody>\n",
       "    <tr>\n",
       "      <th>0</th>\n",
       "      <td>Aaron MICHAEL</td>\n",
       "      <td>north-west</td>\n",
       "      <td>consultancy</td>\n",
       "      <td>1</td>\n",
       "    </tr>\n",
       "    <tr>\n",
       "      <th>1</th>\n",
       "      <td>Abagail PACE</td>\n",
       "      <td>midlands</td>\n",
       "      <td>entertainment</td>\n",
       "      <td>0</td>\n",
       "    </tr>\n",
       "    <tr>\n",
       "      <th>2</th>\n",
       "      <td>Abbey TERRELL</td>\n",
       "      <td>south-west</td>\n",
       "      <td>wholesale</td>\n",
       "      <td>1</td>\n",
       "    </tr>\n",
       "    <tr>\n",
       "      <th>3</th>\n",
       "      <td>Abby ARROYO</td>\n",
       "      <td>scotland</td>\n",
       "      <td>construction</td>\n",
       "      <td>0</td>\n",
       "    </tr>\n",
       "    <tr>\n",
       "      <th>4</th>\n",
       "      <td>Abby STRICKLAND</td>\n",
       "      <td>south-west</td>\n",
       "      <td>entertainment</td>\n",
       "      <td>0</td>\n",
       "    </tr>\n",
       "  </tbody>\n",
       "</table>\n",
       "</div>"
      ],
      "text/plain": [
       "              Name      Region         Sector  sign_up\n",
       "0    Aaron MICHAEL  north-west    consultancy        1\n",
       "1     Abagail PACE    midlands  entertainment        0\n",
       "2    Abbey TERRELL  south-west      wholesale        1\n",
       "3      Abby ARROYO    scotland   construction        0\n",
       "4  Abby STRICKLAND  south-west  entertainment        0"
      ]
     },
     "execution_count": 74,
     "metadata": {},
     "output_type": "execute_result"
    }
   ],
   "source": [
    "lead_outcome = complete_leads.groupby(['Name','Region','Sector'], as_index=False).agg({'sign_up':'max'})\n",
    "lead_outcome.head()"
   ]
  },
  {
   "cell_type": "code",
   "execution_count": 75,
   "metadata": {},
   "outputs": [
    {
     "data": {
      "text/html": [
       "<div>\n",
       "<style scoped>\n",
       "    .dataframe tbody tr th:only-of-type {\n",
       "        vertical-align: middle;\n",
       "    }\n",
       "\n",
       "    .dataframe tbody tr th {\n",
       "        vertical-align: top;\n",
       "    }\n",
       "\n",
       "    .dataframe thead th {\n",
       "        text-align: right;\n",
       "    }\n",
       "</style>\n",
       "<table border=\"1\" class=\"dataframe\">\n",
       "  <thead>\n",
       "    <tr style=\"text-align: right;\">\n",
       "      <th></th>\n",
       "      <th>Name</th>\n",
       "      <th>sign_up</th>\n",
       "      <th>Region_london</th>\n",
       "      <th>Region_midlands</th>\n",
       "      <th>Region_north-east</th>\n",
       "      <th>Region_north-west</th>\n",
       "      <th>Region_northern-ireland</th>\n",
       "      <th>Region_scotland</th>\n",
       "      <th>Region_south</th>\n",
       "      <th>Region_south-east</th>\n",
       "      <th>Region_south-west</th>\n",
       "      <th>Region_wales</th>\n",
       "      <th>Sector_agriculture</th>\n",
       "      <th>Sector_construction</th>\n",
       "      <th>Sector_consultancy</th>\n",
       "      <th>Sector_entertainment</th>\n",
       "      <th>Sector_food</th>\n",
       "      <th>Sector_retail</th>\n",
       "      <th>Sector_wholesale</th>\n",
       "    </tr>\n",
       "  </thead>\n",
       "  <tbody>\n",
       "    <tr>\n",
       "      <th>0</th>\n",
       "      <td>Aaron MICHAEL</td>\n",
       "      <td>1</td>\n",
       "      <td>0</td>\n",
       "      <td>0</td>\n",
       "      <td>0</td>\n",
       "      <td>1</td>\n",
       "      <td>0</td>\n",
       "      <td>0</td>\n",
       "      <td>0</td>\n",
       "      <td>0</td>\n",
       "      <td>0</td>\n",
       "      <td>0</td>\n",
       "      <td>0</td>\n",
       "      <td>0</td>\n",
       "      <td>1</td>\n",
       "      <td>0</td>\n",
       "      <td>0</td>\n",
       "      <td>0</td>\n",
       "      <td>0</td>\n",
       "    </tr>\n",
       "    <tr>\n",
       "      <th>1</th>\n",
       "      <td>Abagail PACE</td>\n",
       "      <td>0</td>\n",
       "      <td>0</td>\n",
       "      <td>1</td>\n",
       "      <td>0</td>\n",
       "      <td>0</td>\n",
       "      <td>0</td>\n",
       "      <td>0</td>\n",
       "      <td>0</td>\n",
       "      <td>0</td>\n",
       "      <td>0</td>\n",
       "      <td>0</td>\n",
       "      <td>0</td>\n",
       "      <td>0</td>\n",
       "      <td>0</td>\n",
       "      <td>1</td>\n",
       "      <td>0</td>\n",
       "      <td>0</td>\n",
       "      <td>0</td>\n",
       "    </tr>\n",
       "    <tr>\n",
       "      <th>2</th>\n",
       "      <td>Abbey TERRELL</td>\n",
       "      <td>1</td>\n",
       "      <td>0</td>\n",
       "      <td>0</td>\n",
       "      <td>0</td>\n",
       "      <td>0</td>\n",
       "      <td>0</td>\n",
       "      <td>0</td>\n",
       "      <td>0</td>\n",
       "      <td>0</td>\n",
       "      <td>1</td>\n",
       "      <td>0</td>\n",
       "      <td>0</td>\n",
       "      <td>0</td>\n",
       "      <td>0</td>\n",
       "      <td>0</td>\n",
       "      <td>0</td>\n",
       "      <td>0</td>\n",
       "      <td>1</td>\n",
       "    </tr>\n",
       "    <tr>\n",
       "      <th>3</th>\n",
       "      <td>Abby ARROYO</td>\n",
       "      <td>0</td>\n",
       "      <td>0</td>\n",
       "      <td>0</td>\n",
       "      <td>0</td>\n",
       "      <td>0</td>\n",
       "      <td>0</td>\n",
       "      <td>1</td>\n",
       "      <td>0</td>\n",
       "      <td>0</td>\n",
       "      <td>0</td>\n",
       "      <td>0</td>\n",
       "      <td>0</td>\n",
       "      <td>1</td>\n",
       "      <td>0</td>\n",
       "      <td>0</td>\n",
       "      <td>0</td>\n",
       "      <td>0</td>\n",
       "      <td>0</td>\n",
       "    </tr>\n",
       "    <tr>\n",
       "      <th>4</th>\n",
       "      <td>Abby STRICKLAND</td>\n",
       "      <td>0</td>\n",
       "      <td>0</td>\n",
       "      <td>0</td>\n",
       "      <td>0</td>\n",
       "      <td>0</td>\n",
       "      <td>0</td>\n",
       "      <td>0</td>\n",
       "      <td>0</td>\n",
       "      <td>0</td>\n",
       "      <td>1</td>\n",
       "      <td>0</td>\n",
       "      <td>0</td>\n",
       "      <td>0</td>\n",
       "      <td>0</td>\n",
       "      <td>1</td>\n",
       "      <td>0</td>\n",
       "      <td>0</td>\n",
       "      <td>0</td>\n",
       "    </tr>\n",
       "  </tbody>\n",
       "</table>\n",
       "</div>"
      ],
      "text/plain": [
       "              Name  sign_up  Region_london  Region_midlands  \\\n",
       "0    Aaron MICHAEL        1              0                0   \n",
       "1     Abagail PACE        0              0                1   \n",
       "2    Abbey TERRELL        1              0                0   \n",
       "3      Abby ARROYO        0              0                0   \n",
       "4  Abby STRICKLAND        0              0                0   \n",
       "\n",
       "   Region_north-east  Region_north-west  Region_northern-ireland  \\\n",
       "0                  0                  1                        0   \n",
       "1                  0                  0                        0   \n",
       "2                  0                  0                        0   \n",
       "3                  0                  0                        0   \n",
       "4                  0                  0                        0   \n",
       "\n",
       "   Region_scotland  Region_south  Region_south-east  Region_south-west  \\\n",
       "0                0             0                  0                  0   \n",
       "1                0             0                  0                  0   \n",
       "2                0             0                  0                  1   \n",
       "3                1             0                  0                  0   \n",
       "4                0             0                  0                  1   \n",
       "\n",
       "   Region_wales  Sector_agriculture  Sector_construction  Sector_consultancy  \\\n",
       "0             0                   0                    0                   1   \n",
       "1             0                   0                    0                   0   \n",
       "2             0                   0                    0                   0   \n",
       "3             0                   0                    1                   0   \n",
       "4             0                   0                    0                   0   \n",
       "\n",
       "   Sector_entertainment  Sector_food  Sector_retail  Sector_wholesale  \n",
       "0                     0            0              0                 0  \n",
       "1                     1            0              0                 0  \n",
       "2                     0            0              0                 1  \n",
       "3                     0            0              0                 0  \n",
       "4                     1            0              0                 0  "
      ]
     },
     "execution_count": 75,
     "metadata": {},
     "output_type": "execute_result"
    }
   ],
   "source": [
    "lead_outcome_encode = pd.get_dummies(lead_outcome,columns=['Region','Sector'])\n",
    "lead_outcome_encode.head()"
   ]
  },
  {
   "cell_type": "markdown",
   "metadata": {},
   "source": [
    "### My approach would be to fit a logistic regression model, after removing age due to unusual values, I am left with region & sector only. I want to best estimate the role of region and sector in predicting whether a sign up will happen"
   ]
  },
  {
   "cell_type": "markdown",
   "metadata": {},
   "source": [
    "#### My approach is to split data into final validation and test set. I will then use grid search & cross validation to find hyperparameters for logistic regression which enable parameters which a) best explain error in test set whilst b) ensuring overfitting doesn't occur."
   ]
  },
  {
   "cell_type": "code",
   "execution_count": 76,
   "metadata": {},
   "outputs": [
    {
     "name": "stdout",
     "output_type": "stream",
     "text": [
      "Seperate final validation set out and leave aside, and seperately use \n",
      "cross validation on 'train' data only to improve model fit\n"
     ]
    }
   ],
   "source": [
    "print(\"Seperate final validation set out and leave aside, and seperately use \\ncross validation on 'train' data only to improve model fit\")\n",
    "\n",
    "X = lead_outcome_encode.drop(['Name','sign_up'],axis=1) # Features\n",
    "y = lead_outcome_encode.sign_up # Target variable\n",
    "\n",
    "X_train,X_test,y_train,y_test=model_selection.train_test_split(X,y,test_size=0.25,random_state=0)\n",
    "\n"
   ]
  },
  {
   "cell_type": "markdown",
   "metadata": {},
   "source": [
    "#### The first model is just a base logistic regression"
   ]
  },
  {
   "cell_type": "code",
   "execution_count": 77,
   "metadata": {},
   "outputs": [
    {
     "name": "stderr",
     "output_type": "stream",
     "text": [
      "[Parallel(n_jobs=1)]: Using backend SequentialBackend with 1 concurrent workers.\n",
      "[Parallel(n_jobs=1)]: Done   1 out of   1 | elapsed:    0.0s remaining:    0.0s\n",
      "[Parallel(n_jobs=1)]: Done   1 out of   1 | elapsed:    0.0s finished\n"
     ]
    }
   ],
   "source": [
    "model = LogisticRegression(fit_intercept = False,verbose=2)\n",
    "# fit the model with data\n",
    "model.fit(X_train,y_train)\n",
    "\n",
    "#\n",
    "y_pred=model.predict(X_test)"
   ]
  },
  {
   "cell_type": "code",
   "execution_count": 78,
   "metadata": {
    "scrolled": false
   },
   "outputs": [],
   "source": [
    "from sklearn import metrics\n",
    "cnf_matrix = metrics.confusion_matrix(y_test, y_pred)\n"
   ]
  },
  {
   "cell_type": "code",
   "execution_count": 79,
   "metadata": {},
   "outputs": [],
   "source": [
    "#### The below conf matrix shows me how well logistic \n",
    "#### regression predicts sign ups. "
   ]
  },
  {
   "cell_type": "code",
   "execution_count": 80,
   "metadata": {},
   "outputs": [
    {
     "data": {
      "text/plain": [
       "array([[245, 108],\n",
       "       [142, 185]])"
      ]
     },
     "execution_count": 80,
     "metadata": {},
     "output_type": "execute_result"
    }
   ],
   "source": [
    "cnf_matrix"
   ]
  },
  {
   "cell_type": "code",
   "execution_count": 81,
   "metadata": {
    "scrolled": true
   },
   "outputs": [
    {
     "name": "stdout",
     "output_type": "stream",
     "text": [
      "Accuracy - proportion of total correct predictions: 0.63\n",
      "Precision - proportion of predicted positive outcomes correct: 0.63\n",
      "Recall - proportion of true positive classified as true: 0.57\n"
     ]
    }
   ],
   "source": [
    "print(\"Accuracy - proportion of total correct predictions:\",metrics.accuracy_score(y_test, y_pred).round(2))\n",
    "print(\"Precision - proportion of predicted positive outcomes correct:\",metrics.precision_score(y_test, y_pred).round(2))\n",
    "print(\"Recall - proportion of true positive classified as true:\",metrics.recall_score(y_test, y_pred).round(2))"
   ]
  },
  {
   "cell_type": "markdown",
   "metadata": {},
   "source": [
    "#### The model above predicts cases with 63% accuracy (sign ups vs no sign ups). I will try hyper parameter search now to see if I can squeeze a little more performance out."
   ]
  },
  {
   "cell_type": "code",
   "execution_count": 82,
   "metadata": {},
   "outputs": [
    {
     "name": "stdout",
     "output_type": "stream",
     "text": [
      "Best: 0.618741 using {'C': 0.08858667904100823, 'dual': False, 'max_iter': 100, 'penalty': 'l2'}\n",
      "Execution time: 11.091947078704834 ms\n"
     ]
    },
    {
     "name": "stderr",
     "output_type": "stream",
     "text": [
      "[Parallel(n_jobs=1)]: Using backend SequentialBackend with 1 concurrent workers.\n",
      "[Parallel(n_jobs=1)]: Done   1 out of   1 | elapsed:    0.0s remaining:    0.0s\n",
      "[Parallel(n_jobs=1)]: Done   1 out of   1 | elapsed:    0.0s finished\n"
     ]
    }
   ],
   "source": [
    "import time\n",
    "param_grid = {'dual':[True,False],\n",
    "              'max_iter':[100,110,120,130,140,200],\n",
    "              'penalty' : ['l1','l2'],\n",
    "              'C' : np.logspace(-4, 4, 20)}\n",
    "\n",
    "grid = model_selection.GridSearchCV(\n",
    "    estimator=LogisticRegression(fit_intercept = False,verbose=2,penalty = 'penalty'),\n",
    "    param_grid=param_grid, \n",
    "    cv = 10, \n",
    "    n_jobs=-1)\n",
    "\n",
    "start_time = time.time()\n",
    "grid_result = grid.fit(X_train, y_train)\n",
    "# Summarize results\n",
    "print(\"Best: %f using %s\" % (grid_result.best_score_, grid_result.best_params_))\n",
    "print(\"Execution time: \" + str((time.time() - start_time)) + ' ms')\n"
   ]
  },
  {
   "cell_type": "markdown",
   "metadata": {},
   "source": [
    " #### Now apply cross fold validation to tune parameter estimates"
   ]
  },
  {
   "cell_type": "code",
   "execution_count": 83,
   "metadata": {},
   "outputs": [
    {
     "name": "stderr",
     "output_type": "stream",
     "text": [
      "[Parallel(n_jobs=1)]: Using backend SequentialBackend with 1 concurrent workers.\n",
      "[Parallel(n_jobs=1)]: Done   1 out of   1 | elapsed:    0.0s remaining:    0.0s\n",
      "[Parallel(n_jobs=1)]: Done   1 out of   1 | elapsed:    0.0s finished\n"
     ]
    }
   ],
   "source": [
    "model_hyper_opt = LogisticRegression(\n",
    "    fit_intercept = False,\n",
    "    verbose=2,\n",
    "    dual=False,\n",
    "    max_iter=100,\n",
    "    penalty='l2',\n",
    "    C=0.08858667904100823 )\n",
    "\n",
    "model_hyper_opt.fit(X_train,y_train)\n",
    "y_pred_hyp=model_hyper_opt.predict(X_test)"
   ]
  },
  {
   "cell_type": "code",
   "execution_count": 84,
   "metadata": {},
   "outputs": [
    {
     "data": {
      "text/plain": [
       "array([[241, 112],\n",
       "       [137, 190]])"
      ]
     },
     "execution_count": 84,
     "metadata": {},
     "output_type": "execute_result"
    }
   ],
   "source": [
    "cnf_matrix_hype = metrics.confusion_matrix(y_test, y_pred_hyp)\n",
    "cnf_matrix_hype"
   ]
  },
  {
   "cell_type": "code",
   "execution_count": 85,
   "metadata": {},
   "outputs": [
    {
     "name": "stdout",
     "output_type": "stream",
     "text": [
      "Accuracy - proportion of total correct predictions: 0.63\n",
      "Precision - proportion of predicted positive outcomes correct: 0.63\n",
      "Recall - proportion of true positive classified as true: 0.58\n"
     ]
    }
   ],
   "source": [
    "print(\"Accuracy - proportion of total correct predictions:\",metrics.accuracy_score(y_test, y_pred_hyp).round(2))\n",
    "print(\"Precision - proportion of predicted positive outcomes correct:\",metrics.precision_score(y_test, y_pred_hyp).round(2))\n",
    "print(\"Recall - proportion of true positive classified as true:\",metrics.recall_score(y_test, y_pred_hyp).round(2))"
   ]
  },
  {
   "cell_type": "markdown",
   "metadata": {},
   "source": [
    "#### A lot of work for little upside! The new model doesn't really improve fit. In reality being constrained by just two categorical factors is likely causing a low ceiling on how we are able to tackle the problem."
   ]
  },
  {
   "cell_type": "markdown",
   "metadata": {},
   "source": [
    "## Question 10.2: In what sense are those an optimal criteria set?\n"
   ]
  },
  {
   "cell_type": "markdown",
   "metadata": {},
   "source": [
    "#### Based on the constrained universe I have assumed with my model, they are optimal as they give us the best chance of predicting leads for a unknown data set. In reality the prediction power is poor and just beats random chance."
   ]
  },
  {
   "cell_type": "markdown",
   "metadata": {},
   "source": [
    "## Question 10.3: How many signups would you expect to get based on those called leads, assuming they were being called by random agents? "
   ]
  },
  {
   "cell_type": "code",
   "execution_count": 99,
   "metadata": {},
   "outputs": [
    {
     "data": {
      "text/html": [
       "<div>\n",
       "<style scoped>\n",
       "    .dataframe tbody tr th:only-of-type {\n",
       "        vertical-align: middle;\n",
       "    }\n",
       "\n",
       "    .dataframe tbody tr th {\n",
       "        vertical-align: top;\n",
       "    }\n",
       "\n",
       "    .dataframe thead th {\n",
       "        text-align: right;\n",
       "    }\n",
       "</style>\n",
       "<table border=\"1\" class=\"dataframe\">\n",
       "  <thead>\n",
       "    <tr style=\"text-align: right;\">\n",
       "      <th></th>\n",
       "      <th>Region_london</th>\n",
       "      <th>Region_midlands</th>\n",
       "      <th>Region_north-east</th>\n",
       "      <th>Region_north-west</th>\n",
       "      <th>Region_northern-ireland</th>\n",
       "      <th>Region_scotland</th>\n",
       "      <th>Region_south</th>\n",
       "      <th>Region_south-east</th>\n",
       "      <th>Region_south-west</th>\n",
       "      <th>Region_wales</th>\n",
       "      <th>Sector_agriculture</th>\n",
       "      <th>Sector_construction</th>\n",
       "      <th>Sector_consultancy</th>\n",
       "      <th>Sector_entertainment</th>\n",
       "      <th>Sector_food</th>\n",
       "      <th>Sector_retail</th>\n",
       "      <th>Sector_wholesale</th>\n",
       "    </tr>\n",
       "  </thead>\n",
       "  <tbody>\n",
       "    <tr>\n",
       "      <th>0</th>\n",
       "      <td>0</td>\n",
       "      <td>0</td>\n",
       "      <td>1</td>\n",
       "      <td>0</td>\n",
       "      <td>0</td>\n",
       "      <td>0</td>\n",
       "      <td>0</td>\n",
       "      <td>0</td>\n",
       "      <td>0</td>\n",
       "      <td>0</td>\n",
       "      <td>0</td>\n",
       "      <td>0</td>\n",
       "      <td>0</td>\n",
       "      <td>0</td>\n",
       "      <td>0</td>\n",
       "      <td>1</td>\n",
       "      <td>0</td>\n",
       "    </tr>\n",
       "    <tr>\n",
       "      <th>1</th>\n",
       "      <td>0</td>\n",
       "      <td>1</td>\n",
       "      <td>0</td>\n",
       "      <td>0</td>\n",
       "      <td>0</td>\n",
       "      <td>0</td>\n",
       "      <td>0</td>\n",
       "      <td>0</td>\n",
       "      <td>0</td>\n",
       "      <td>0</td>\n",
       "      <td>0</td>\n",
       "      <td>0</td>\n",
       "      <td>0</td>\n",
       "      <td>0</td>\n",
       "      <td>1</td>\n",
       "      <td>0</td>\n",
       "      <td>0</td>\n",
       "    </tr>\n",
       "    <tr>\n",
       "      <th>2</th>\n",
       "      <td>0</td>\n",
       "      <td>0</td>\n",
       "      <td>0</td>\n",
       "      <td>0</td>\n",
       "      <td>0</td>\n",
       "      <td>0</td>\n",
       "      <td>1</td>\n",
       "      <td>0</td>\n",
       "      <td>0</td>\n",
       "      <td>0</td>\n",
       "      <td>0</td>\n",
       "      <td>1</td>\n",
       "      <td>0</td>\n",
       "      <td>0</td>\n",
       "      <td>0</td>\n",
       "      <td>0</td>\n",
       "      <td>0</td>\n",
       "    </tr>\n",
       "    <tr>\n",
       "      <th>3</th>\n",
       "      <td>0</td>\n",
       "      <td>0</td>\n",
       "      <td>0</td>\n",
       "      <td>0</td>\n",
       "      <td>0</td>\n",
       "      <td>0</td>\n",
       "      <td>1</td>\n",
       "      <td>0</td>\n",
       "      <td>0</td>\n",
       "      <td>0</td>\n",
       "      <td>0</td>\n",
       "      <td>0</td>\n",
       "      <td>0</td>\n",
       "      <td>0</td>\n",
       "      <td>1</td>\n",
       "      <td>0</td>\n",
       "      <td>0</td>\n",
       "    </tr>\n",
       "    <tr>\n",
       "      <th>4</th>\n",
       "      <td>0</td>\n",
       "      <td>0</td>\n",
       "      <td>1</td>\n",
       "      <td>0</td>\n",
       "      <td>0</td>\n",
       "      <td>0</td>\n",
       "      <td>0</td>\n",
       "      <td>0</td>\n",
       "      <td>0</td>\n",
       "      <td>0</td>\n",
       "      <td>0</td>\n",
       "      <td>0</td>\n",
       "      <td>0</td>\n",
       "      <td>1</td>\n",
       "      <td>0</td>\n",
       "      <td>0</td>\n",
       "      <td>0</td>\n",
       "    </tr>\n",
       "  </tbody>\n",
       "</table>\n",
       "</div>"
      ],
      "text/plain": [
       "   Region_london  Region_midlands  Region_north-east  Region_north-west  \\\n",
       "0              0                0                  1                  0   \n",
       "1              0                1                  0                  0   \n",
       "2              0                0                  0                  0   \n",
       "3              0                0                  0                  0   \n",
       "4              0                0                  1                  0   \n",
       "\n",
       "   Region_northern-ireland  Region_scotland  Region_south  Region_south-east  \\\n",
       "0                        0                0             0                  0   \n",
       "1                        0                0             0                  0   \n",
       "2                        0                0             1                  0   \n",
       "3                        0                0             1                  0   \n",
       "4                        0                0             0                  0   \n",
       "\n",
       "   Region_south-west  Region_wales  Sector_agriculture  Sector_construction  \\\n",
       "0                  0             0                   0                    0   \n",
       "1                  0             0                   0                    0   \n",
       "2                  0             0                   0                    1   \n",
       "3                  0             0                   0                    0   \n",
       "4                  0             0                   0                    0   \n",
       "\n",
       "   Sector_consultancy  Sector_entertainment  Sector_food  Sector_retail  \\\n",
       "0                   0                     0            0              1   \n",
       "1                   0                     0            1              0   \n",
       "2                   0                     0            0              0   \n",
       "3                   0                     0            1              0   \n",
       "4                   0                     1            0              0   \n",
       "\n",
       "   Sector_wholesale  \n",
       "0                 0  \n",
       "1                 0  \n",
       "2                 0  \n",
       "3                 0  \n",
       "4                 0  "
      ]
     },
     "execution_count": 99,
     "metadata": {},
     "output_type": "execute_result"
    }
   ],
   "source": [
    "leads_full = pd.merge(leads,calls,on='Phone Number',how='left')\n",
    "leads_full = leads_full[leads_full.isnull().any(1)]\n",
    "predict_set = leads_full.groupby(['Name','Region','Sector'], as_index=False).agg({}).drop(['Name'],axis=1)\n",
    "\n",
    "predict_set_encode = pd.get_dummies(predict_set,columns=['Region','Sector'])\n",
    "predict_set_encode.head()"
   ]
  },
  {
   "cell_type": "code",
   "execution_count": 104,
   "metadata": {},
   "outputs": [
    {
     "name": "stdout",
     "output_type": "stream",
     "text": [
      "682 leads!\n"
     ]
    }
   ],
   "source": [
    "sorted_next_1000 = pd.DataFrame(model_hyper_opt.predict_proba(predict_set_encode))[1].sort_values(ascending=False)[:1000]\n",
    "\n",
    "print(\"{} leads!\".format(round(sum(sorted_next_1000))))"
   ]
  },
  {
   "cell_type": "markdown",
   "metadata": {},
   "source": [
    "## (Extra) Finding most appropriate way to assess best model"
   ]
  },
  {
   "cell_type": "code",
   "execution_count": 105,
   "metadata": {
    "scrolled": false
   },
   "outputs": [
    {
     "data": {
      "text/html": [
       "<div>\n",
       "<style scoped>\n",
       "    .dataframe tbody tr th:only-of-type {\n",
       "        vertical-align: middle;\n",
       "    }\n",
       "\n",
       "    .dataframe tbody tr th {\n",
       "        vertical-align: top;\n",
       "    }\n",
       "\n",
       "    .dataframe thead th {\n",
       "        text-align: right;\n",
       "    }\n",
       "</style>\n",
       "<table border=\"1\" class=\"dataframe\">\n",
       "  <thead>\n",
       "    <tr style=\"text-align: right;\">\n",
       "      <th></th>\n",
       "      <th>Outcome</th>\n",
       "      <th>Prediction</th>\n",
       "    </tr>\n",
       "  </thead>\n",
       "  <tbody>\n",
       "    <tr>\n",
       "      <th>0</th>\n",
       "      <td>1</td>\n",
       "      <td>0.755702</td>\n",
       "    </tr>\n",
       "    <tr>\n",
       "      <th>1</th>\n",
       "      <td>1</td>\n",
       "      <td>0.755702</td>\n",
       "    </tr>\n",
       "    <tr>\n",
       "      <th>2</th>\n",
       "      <td>1</td>\n",
       "      <td>0.755702</td>\n",
       "    </tr>\n",
       "    <tr>\n",
       "      <th>3</th>\n",
       "      <td>1</td>\n",
       "      <td>0.755702</td>\n",
       "    </tr>\n",
       "    <tr>\n",
       "      <th>4</th>\n",
       "      <td>0</td>\n",
       "      <td>0.738756</td>\n",
       "    </tr>\n",
       "  </tbody>\n",
       "</table>\n",
       "</div>"
      ],
      "text/plain": [
       "   Outcome  Prediction\n",
       "0        1    0.755702\n",
       "1        1    0.755702\n",
       "2        1    0.755702\n",
       "3        1    0.755702\n",
       "4        0    0.738756"
      ]
     },
     "execution_count": 105,
     "metadata": {},
     "output_type": "execute_result"
    }
   ],
   "source": [
    "outcome_pred = pd.DataFrame(\n",
    "    {'Outcome': y_test.reset_index(drop=True),\n",
    "     'Prediction':pd.DataFrame(model_hyper_opt.predict_proba(X_test))[1]\n",
    "    }\n",
    ").sort_values('Prediction',ascending=False).reset_index(drop=True)\n",
    "outcome_pred.head()\n"
   ]
  },
  {
   "cell_type": "code",
   "execution_count": 106,
   "metadata": {},
   "outputs": [],
   "source": [
    "# Summary metric 1 - beating random\n",
    "\n",
    "def model_beats_random(df):\n",
    "    random_choice = []\n",
    "    cumsum_col = df.Outcome.cumsum()\n",
    "    s = list(range(len(df)))\n",
    "    random.shuffle(s)\n",
    "    for i in s:\n",
    "        random_choice.append(df.Outcome[i])\n",
    "    rand_series = pd.Series(random_choice).cumsum().reset_index(drop=True)\n",
    "    plt.plot(range(len(df)),rand_series,label=\"random_choice\")\n",
    "    plt.plot(range(len(df)),cumsum_col,label=\"logistic_order_choice\")\n",
    "    plt.legend()\n",
    "    plt.xlabel('Lead Choice Count')\n",
    "    plt.ylabel('No of Sign Ups Achieved')\n",
    "    return plt.show()"
   ]
  },
  {
   "cell_type": "code",
   "execution_count": 107,
   "metadata": {},
   "outputs": [
    {
     "data": {
      "image/png": "[encoded data removed]",
      "text/plain": [
       "<Figure size 432x288 with 1 Axes>"
      ]
     },
     "metadata": {
      "needs_background": "light"
     },
     "output_type": "display_data"
    }
   ],
   "source": [
    "model_beats_random(outcome_pred)\n"
   ]
  },
  {
   "cell_type": "code",
   "execution_count": 108,
   "metadata": {},
   "outputs": [
    {
     "name": "stdout",
     "output_type": "stream",
     "text": [
      "0.6825939305732429\n"
     ]
    },
    {
     "data": {
      "image/png": "[encoded data removed]",
      "text/plain": [
       "<Figure size 432x288 with 1 Axes>"
      ]
     },
     "metadata": {
      "needs_background": "light"
     },
     "output_type": "display_data"
    }
   ],
   "source": [
    "fpr = dict()\n",
    "tpr = dict()\n",
    "roc_auc = dict()\n",
    "fpr, tpr, _ = metrics.roc_curve(outcome_pred.Outcome,outcome_pred.Prediction)\n",
    "roc_auc = metrics.auc(fpr, tpr)\n",
    "\n",
    "print(metrics.roc_auc_score(outcome_pred.Outcome, outcome_pred.Prediction))\n",
    "plt.figure()\n",
    "plt.plot(fpr, tpr)\n",
    "plt.xlim([0.0, 1.0])\n",
    "plt.ylim([0.0, 1.05])\n",
    "plt.xlabel('False Positive Rate')\n",
    "plt.ylabel('True Positive Rate')\n",
    "plt.title('Receiver operating characteristic')\n",
    "plt.show()"
   ]
  },
  {
   "cell_type": "code",
   "execution_count": 109,
   "metadata": {},
   "outputs": [
    {
     "name": "stdout",
     "output_type": "stream",
     "text": [
      "AUC of 0.68 gives us prob randomly select signed up lead will have a \n",
      "higher prediction compared to a randomly selected negative lead\n",
      "\n",
      "\n",
      "Given this definition of AUC, AUC feels like a very appropriate summary measure for this problem\n"
     ]
    }
   ],
   "source": [
    "print('AUC of 0.68 gives us prob randomly select signed up lead will have a \\nhigher prediction compared to a randomly selected negative lead')\n",
    "print(\"\\n\")\n",
    "print(\"Given this definition of AUC, AUC feels like a very appropriate summary measure for this problem\")"
   ]
  },
  {
   "cell_type": "markdown",
   "metadata": {},
   "source": [
    "## Question 10.4: If you could choose the agents to make those calls, who would you choose? Why?"
   ]
  },
  {
   "cell_type": "code",
   "execution_count": 93,
   "metadata": {},
   "outputs": [],
   "source": [
    "# My first thoughts on this to lay out what we have learned so far from the agents\n",
    "# 1: Some agents make more calls than others\n",
    "# 2: Agents have different amounts of calls per sign ups (overall efficiency)"
   ]
  },
  {
   "cell_type": "code",
   "execution_count": 94,
   "metadata": {},
   "outputs": [],
   "source": [
    "# Things we don't really know\n",
    "# How does an earlier call impact decision to use another agent?\n",
    "# How much time to the agents have for this job alone?\n",
    "# How available are agents for a call after a previous call?\n",
    "# How likely is a dead line? Can we predict these?"
   ]
  },
  {
   "cell_type": "markdown",
   "metadata": {},
   "source": [
    "## Proposed solution"
   ]
  },
  {
   "cell_type": "markdown",
   "metadata": {},
   "source": [
    "#### I personally can't  answer the question without having more information available, or more guidance. Without that I would proceed to try and model the situation using Bayesian Networks."
   ]
  },
  {
   "cell_type": "markdown",
   "metadata": {},
   "source": [
    "## Pre work\n",
    "\n",
    "#### Assuming agents are available purely based on their own time constraint, model agent avaialability at any time T via a poisson process.\n",
    "\n",
    "#### Build a model to predict dead line likelihood based on region & sector\n",
    "\n"
   ]
  },
  {
   "cell_type": "markdown",
   "metadata": {},
   "source": [
    "## Main model\n",
    "\n",
    "#### 1) Build a graph of the relations between the known variables \n",
    "#### 2) Fit a Bayesian Network to this known graph (including dead line prediction).\n",
    "#### 3) At time 0, assume all agents available and assign agents to leadssuch that total probability of lead conversion is maximised across all 5 calls. (this involves calculating conditional probability for each agent/lead combo).\n",
    "#### 4) For each individual lead, if dead line / sign up / not interested then remove from sample\n",
    "#### 5) if not, add back to sample and add a multiple call flag.\n",
    "#### 6) repeat until all samples have been concluded\n",
    "\n"
   ]
  },
  {
   "cell_type": "markdown",
   "metadata": {},
   "source": [
    "## Notes on the above\n",
    "\n",
    "#### directed acyclic graph requires all conditional probabilities to be explicitly added.\n",
    "#### I would probably assume agent choice is conditionally independent of the leads data (region, sector) to simplify the graph somewhat.\n"
   ]
  },
  {
   "cell_type": "code",
   "execution_count": null,
   "metadata": {},
   "outputs": [],
   "source": []
  }
 ],
 "metadata": {
  "kernelspec": {
   "display_name": "Python 3",
   "language": "python",
   "name": "python3"
  },
  "language_info": {
   "codemirror_mode": {
    "name": "ipython",
    "version": 3
   },
   "file_extension": ".py",
   "mimetype": "text/x-python",
   "name": "python",
   "nbconvert_exporter": "python",
   "pygments_lexer": "ipython3",
   "version": "3.7.7"
  }
 },
 "nbformat": 4,
 "nbformat_minor": 4
}
